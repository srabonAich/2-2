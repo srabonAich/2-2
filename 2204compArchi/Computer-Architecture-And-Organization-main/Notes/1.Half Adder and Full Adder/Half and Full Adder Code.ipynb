{
 "cells": [
  {
   "cell_type": "markdown",
   "id": "73cf048a-e784-4a68-8bc8-1a3583e32892",
   "metadata": {},
   "source": [
    "<center><h1 style=\"color:purple\">Half Adder and Full Adder</center>"
   ]
  },
  {
   "cell_type": "markdown",
   "id": "2b2460be-8ae0-4795-9fe1-e5a780eaaeb4",
   "metadata": {},
   "source": [
    "<b>Half Adder"
   ]
  },
  {
   "cell_type": "code",
   "execution_count": 1,
   "id": "9d915c45-2fe5-4c77-83c6-b6bb004a16e5",
   "metadata": {},
   "outputs": [],
   "source": [
    "def half_adder(a, b):\n",
    "    sum_bit = a ^ b  # XOR for sum\n",
    "    carry_bit = a & b  # AND for carry\n",
    "    return sum_bit, carry_bit"
   ]
  },
  {
   "cell_type": "code",
   "execution_count": 2,
   "id": "dc4b20be-1c2a-4d4b-9e4c-f6200badca30",
   "metadata": {},
   "outputs": [],
   "source": [
    "a = 1  # First input bit\n",
    "b = 0  # Second input bit"
   ]
  },
  {
   "cell_type": "code",
   "execution_count": 3,
   "id": "542595d4-9662-4be5-a18a-53b0c74b3400",
   "metadata": {},
   "outputs": [
    {
     "name": "stdout",
     "output_type": "stream",
     "text": [
      "Sum: 1, Carry: 0\n"
     ]
    }
   ],
   "source": [
    "sum_bit, carry_bit = half_adder(a, b)\n",
    "print(f\"Sum: {sum_bit}, Carry: {carry_bit}\")"
   ]
  },
  {
   "cell_type": "markdown",
   "id": "de252b19-91ba-45cd-9999-647dc89293b4",
   "metadata": {},
   "source": [
    "<b>Full Adder"
   ]
  },
  {
   "cell_type": "code",
   "execution_count": 4,
   "id": "8eae46c7-435e-4963-8254-0efcfd7240cc",
   "metadata": {},
   "outputs": [],
   "source": [
    "def full_adder(a, b, carry_in):\n",
    "    sum_bit = a ^ b ^ carry_in  # XOR for sum\n",
    "    carry_out = (a & b) | (b & carry_in) | (a & carry_in)  # OR of ANDs for carry out\n",
    "    return sum_bit, carry_out"
   ]
  },
  {
   "cell_type": "code",
   "execution_count": 5,
   "id": "595dc079-7354-421e-97f6-6009faa085f7",
   "metadata": {},
   "outputs": [],
   "source": [
    "a = 1  # First input bit\n",
    "b = 0  # Second input bit\n",
    "carry_in = 1  # Carry-in from previous addition"
   ]
  },
  {
   "cell_type": "code",
   "execution_count": 6,
   "id": "23be97f6-fed5-4beb-9fb3-4dd313bf1259",
   "metadata": {},
   "outputs": [
    {
     "name": "stdout",
     "output_type": "stream",
     "text": [
      "Sum: 0, Carry Out: 1\n"
     ]
    }
   ],
   "source": [
    "sum_bit, carry_out = full_adder(a, b, carry_in)\n",
    "print(f\"Sum: {sum_bit}, Carry Out: {carry_out}\")"
   ]
  }
 ],
 "metadata": {
  "kernelspec": {
   "display_name": "Python 3 (ipykernel)",
   "language": "python",
   "name": "python3"
  },
  "language_info": {
   "codemirror_mode": {
    "name": "ipython",
    "version": 3
   },
   "file_extension": ".py",
   "mimetype": "text/x-python",
   "name": "python",
   "nbconvert_exporter": "python",
   "pygments_lexer": "ipython3",
   "version": "3.10.11"
  }
 },
 "nbformat": 4,
 "nbformat_minor": 5
}
