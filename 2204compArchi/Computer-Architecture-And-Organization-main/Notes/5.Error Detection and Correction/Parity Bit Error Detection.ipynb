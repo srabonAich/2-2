{
 "cells": [
  {
   "cell_type": "markdown",
   "id": "8c9b68d0-3d86-4e10-b7db-9667ddef4a90",
   "metadata": {},
   "source": [
    "<center><h1 style=\"color:blue\">Parity Bit Error Detection (Even Parity and Odd Parity)</center>"
   ]
  },
  {
   "cell_type": "code",
   "execution_count": 1,
   "id": "fe264bc4-1568-43f8-8ea8-ee85ba4ad2bc",
   "metadata": {},
   "outputs": [],
   "source": [
    "def generate_even_parity_bit(data):\n",
    "    \"\"\"Generate even parity bit for the given binary string.\"\"\"\n",
    "    count_ones = data.count('1')\n",
    "    parity_bit = '0' if count_ones % 2 == 0 else '1'\n",
    "    return data + parity_bit"
   ]
  },
  {
   "cell_type": "code",
   "execution_count": 2,
   "id": "39d1d6b6-977b-4b88-9eb3-3962d1904990",
   "metadata": {},
   "outputs": [],
   "source": [
    "def generate_odd_parity_bit(data):\n",
    "    \"\"\"Generate odd parity bit for the given binary string.\"\"\"\n",
    "    count_ones = data.count('1')\n",
    "    parity_bit = '0' if count_ones % 2 == 1 else '1'\n",
    "    return data + parity_bit"
   ]
  },
  {
   "cell_type": "code",
   "execution_count": 3,
   "id": "ab2cadcb-8b90-4e01-8449-0367c856a935",
   "metadata": {},
   "outputs": [],
   "source": [
    "def check_even_parity_bit(received_data):\n",
    "    \"\"\"Check if the received data has a parity error.\"\"\"\n",
    "    count_ones = received_data.count('1')\n",
    "    if count_ones % 2 == 0:\n",
    "        print(\"No error detected.\")\n",
    "    else:\n",
    "        print(\"Error detected in transmission!\")"
   ]
  },
  {
   "cell_type": "code",
   "execution_count": 4,
   "id": "a2903325-0bbf-4380-8630-753d569251dd",
   "metadata": {},
   "outputs": [],
   "source": [
    "def check_odd_parity_bit(received_data):\n",
    "    \"\"\"Check if the received data has a parity error.\"\"\"\n",
    "    count_ones = received_data.count('1')\n",
    "    if count_ones % 2 == 1:\n",
    "        print(\"No error detected.\")\n",
    "    else:\n",
    "        print(\"Error detected in transmission!\")"
   ]
  },
  {
   "cell_type": "code",
   "execution_count": 5,
   "id": "1899f668-9bd2-48d7-a47b-826e591a0950",
   "metadata": {},
   "outputs": [],
   "source": [
    "# Example Usage\n",
    "data = \"1101011\"  # Original 7-bit data"
   ]
  },
  {
   "cell_type": "markdown",
   "id": "154c4bba-31a7-4162-be05-daf2be374e42",
   "metadata": {},
   "source": [
    "<b>Even Parity"
   ]
  },
  {
   "cell_type": "code",
   "execution_count": 6,
   "id": "e8dfeee7-2351-40b0-bb79-603fad4ad7da",
   "metadata": {},
   "outputs": [
    {
     "name": "stdout",
     "output_type": "stream",
     "text": [
      "Transmitted Data with Parity: 11010111\n"
     ]
    }
   ],
   "source": [
    "transmitted_data = generate_even_parity_bit(data)\n",
    "print(f\"Transmitted Data with Parity: {transmitted_data}\")"
   ]
  },
  {
   "cell_type": "code",
   "execution_count": 7,
   "id": "ce507b14-60e2-4dfb-a9a6-4838b716f9de",
   "metadata": {},
   "outputs": [
    {
     "name": "stdout",
     "output_type": "stream",
     "text": [
      "Error detected in transmission!\n"
     ]
    }
   ],
   "source": [
    "# Simulate error\n",
    "received_data = \"11011111\"  # One bit changed\n",
    "check_even_parity_bit(received_data)"
   ]
  },
  {
   "cell_type": "markdown",
   "id": "64f68022-b3c1-47a1-8b5e-7102f6d2420e",
   "metadata": {},
   "source": [
    "<b>Odd Parity"
   ]
  },
  {
   "cell_type": "code",
   "execution_count": 8,
   "id": "f8c4211f-c1c8-45d6-99ff-3e581addcc76",
   "metadata": {},
   "outputs": [
    {
     "name": "stdout",
     "output_type": "stream",
     "text": [
      "Transmitted Data with Parity: 11010110\n"
     ]
    }
   ],
   "source": [
    "transmitted_data = generate_odd_parity_bit(data)\n",
    "print(f\"Transmitted Data with Parity: {transmitted_data}\")"
   ]
  },
  {
   "cell_type": "code",
   "execution_count": 9,
   "id": "c33b2a6d-a192-4ae2-b68a-93e38ed25f1b",
   "metadata": {},
   "outputs": [
    {
     "name": "stdout",
     "output_type": "stream",
     "text": [
      "Error detected in transmission!\n"
     ]
    }
   ],
   "source": [
    "# Simulate error\n",
    "received_data = \"11011110\"  # One bit changed\n",
    "check_odd_parity_bit(received_data)"
   ]
  },
  {
   "cell_type": "code",
   "execution_count": null,
   "id": "d46d1f07-4fb2-4c5f-9c6f-ea3153d0dfe8",
   "metadata": {},
   "outputs": [],
   "source": []
  }
 ],
 "metadata": {
  "kernelspec": {
   "display_name": "Python 3 (ipykernel)",
   "language": "python",
   "name": "python3"
  },
  "language_info": {
   "codemirror_mode": {
    "name": "ipython",
    "version": 3
   },
   "file_extension": ".py",
   "mimetype": "text/x-python",
   "name": "python",
   "nbconvert_exporter": "python",
   "pygments_lexer": "ipython3",
   "version": "3.10.11"
  }
 },
 "nbformat": 4,
 "nbformat_minor": 5
}
