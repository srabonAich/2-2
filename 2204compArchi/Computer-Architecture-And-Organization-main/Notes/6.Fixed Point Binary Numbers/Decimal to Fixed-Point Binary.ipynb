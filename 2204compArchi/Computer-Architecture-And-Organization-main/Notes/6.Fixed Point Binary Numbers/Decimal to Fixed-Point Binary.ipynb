{
 "cells": [
  {
   "cell_type": "markdown",
   "id": "c483ebb3-ccdb-499e-a542-81836b452f9f",
   "metadata": {},
   "source": [
    "<center><h1>Decimal to Fixed-Point Binary</center>"
   ]
  },
  {
   "cell_type": "code",
   "execution_count": 1,
   "id": "246a9cf3-787d-4d61-956b-6f4197269ee4",
   "metadata": {},
   "outputs": [],
   "source": [
    "def decimal_to_fixed_point(value, int_bits, frac_bits, signed=False):\n",
    "    scale = 1 << frac_bits  # Equivalent to 2^frac_bits\n",
    "    scaled_value = round(value * scale)\n",
    "\n",
    "    # Handle signed range\n",
    "    if signed:\n",
    "        min_val = -(1 << (int_bits - 1))\n",
    "        max_val = (1 << (int_bits - 1)) - 1\n",
    "    else:\n",
    "        min_val = 0\n",
    "        max_val = (1 << int_bits) - 1\n",
    "\n",
    "    int_part = int(value)\n",
    "    if int_part < min_val or int_part > max_val:\n",
    "        raise ValueError(\"Value out of range for specified bit width.\")\n",
    "\n",
    "    # Handle two's complement conversion if needed\n",
    "    total_bits = int_bits + frac_bits\n",
    "    if signed and value < 0:\n",
    "        # Convert to two's complement\n",
    "        scaled_value = (1 << total_bits) + scaled_value\n",
    "\n",
    "    # Clamp to bit width\n",
    "    max_total_val = (1 << total_bits) - 1\n",
    "    scaled_value = scaled_value & max_total_val\n",
    "\n",
    "    # Convert to binary string\n",
    "    bin_str = f\"{scaled_value:0{total_bits}b}\"\n",
    "\n",
    "    # Insert binary point for readability\n",
    "    return bin_str[:int_bits] + '.' + bin_str[int_bits:]"
   ]
  },
  {
   "cell_type": "markdown",
   "id": "6f377d2a-f1f9-4c70-8399-a4d25d657a00",
   "metadata": {},
   "source": [
    "<b>Unsigned"
   ]
  },
  {
   "cell_type": "code",
   "execution_count": 2,
   "id": "0e412af4-f5d2-46a6-9a07-01a5cf8cc0ac",
   "metadata": {},
   "outputs": [
    {
     "name": "stdout",
     "output_type": "stream",
     "text": [
      "0011.1010\n"
     ]
    }
   ],
   "source": [
    "print(decimal_to_fixed_point(3.625, 4, 4))              # → 0011.1010"
   ]
  },
  {
   "cell_type": "markdown",
   "id": "f7a7bd9d-5cda-4dd0-be77-271480276ae3",
   "metadata": {},
   "source": [
    "<b>Signed"
   ]
  },
  {
   "cell_type": "code",
   "execution_count": 3,
   "id": "34b141ce-2f52-4dd2-9d1a-fd9259a82240",
   "metadata": {},
   "outputs": [
    {
     "name": "stdout",
     "output_type": "stream",
     "text": [
      "1101.0110\n"
     ]
    }
   ],
   "source": [
    "print(decimal_to_fixed_point(-2.625, 4, 4, signed=True)) # → 1101.0110"
   ]
  }
 ],
 "metadata": {
  "kernelspec": {
   "display_name": "Python 3 (ipykernel)",
   "language": "python",
   "name": "python3"
  },
  "language_info": {
   "codemirror_mode": {
    "name": "ipython",
    "version": 3
   },
   "file_extension": ".py",
   "mimetype": "text/x-python",
   "name": "python",
   "nbconvert_exporter": "python",
   "pygments_lexer": "ipython3",
   "version": "3.10.11"
  }
 },
 "nbformat": 4,
 "nbformat_minor": 5
}
