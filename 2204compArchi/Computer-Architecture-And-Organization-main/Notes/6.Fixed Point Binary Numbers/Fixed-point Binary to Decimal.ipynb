{
 "cells": [
  {
   "cell_type": "markdown",
   "id": "f97a9196-5653-4fa4-8dd3-790672d16548",
   "metadata": {},
   "source": [
    "<center><h1>Fixed-point Binary to Decimal</center>"
   ]
  },
  {
   "cell_type": "code",
   "execution_count": 1,
   "id": "d6641b2e-dc21-4e13-8bc2-f493b77f7256",
   "metadata": {},
   "outputs": [],
   "source": [
    "def fixed_point_to_decimal(bin_str, int_bits, frac_bits, signed=False):\n",
    "    # Remove any binary point if written like \"1101.0110\"\n",
    "    bin_str = bin_str.replace('.', '')\n",
    "\n",
    "    total_bits = int_bits + frac_bits\n",
    "    if len(bin_str) != total_bits:\n",
    "        raise ValueError(\"Binary string length doesn't match int_bits + frac_bits.\")\n",
    "\n",
    "    int_part_bin = bin_str[:int_bits]\n",
    "    frac_part_bin = bin_str[int_bits:]\n",
    "\n",
    "    # Convert integer part\n",
    "    if signed:\n",
    "        # Two's complement\n",
    "        if int_part_bin[0] == '1':  # Negative number\n",
    "            int_value = int(int_part_bin, 2) - (1 << int_bits)\n",
    "        else:\n",
    "            int_value = int(int_part_bin, 2)\n",
    "    else:\n",
    "        int_value = int(int_part_bin, 2)\n",
    "\n",
    "    # Convert fractional part\n",
    "    frac_value = 0.0\n",
    "    for i, bit in enumerate(frac_part_bin):\n",
    "        frac_value += int(bit) * (2 ** -(i + 1))\n",
    "\n",
    "    return int_value + frac_value"
   ]
  },
  {
   "cell_type": "markdown",
   "id": "e40ec92b-48e3-405e-8abe-4dd9eac7432a",
   "metadata": {},
   "source": [
    "<b>Unsigned"
   ]
  },
  {
   "cell_type": "code",
   "execution_count": 2,
   "id": "fa583283-97d8-4f2f-bd27-39662341fdbf",
   "metadata": {},
   "outputs": [
    {
     "name": "stdout",
     "output_type": "stream",
     "text": [
      "3.625\n"
     ]
    }
   ],
   "source": [
    "print(fixed_point_to_decimal(\"00111010\", 4, 4))               # → 3.625 (unsigned)"
   ]
  },
  {
   "cell_type": "markdown",
   "id": "acb8122c-039c-4a24-b2a2-41126dc1e7c6",
   "metadata": {},
   "source": [
    "<b>Signed"
   ]
  },
  {
   "cell_type": "code",
   "execution_count": 4,
   "id": "cd6becdb-464d-4103-bbfc-0e829109a055",
   "metadata": {},
   "outputs": [
    {
     "name": "stdout",
     "output_type": "stream",
     "text": [
      "-2.625\n"
     ]
    }
   ],
   "source": [
    "print(fixed_point_to_decimal(\"11010110\", 4, 4, signed=True))  # → -2.625 (signed two's complement)"
   ]
  }
 ],
 "metadata": {
  "kernelspec": {
   "display_name": "Python 3 (ipykernel)",
   "language": "python",
   "name": "python3"
  },
  "language_info": {
   "codemirror_mode": {
    "name": "ipython",
    "version": 3
   },
   "file_extension": ".py",
   "mimetype": "text/x-python",
   "name": "python",
   "nbconvert_exporter": "python",
   "pygments_lexer": "ipython3",
   "version": "3.10.11"
  }
 },
 "nbformat": 4,
 "nbformat_minor": 5
}
