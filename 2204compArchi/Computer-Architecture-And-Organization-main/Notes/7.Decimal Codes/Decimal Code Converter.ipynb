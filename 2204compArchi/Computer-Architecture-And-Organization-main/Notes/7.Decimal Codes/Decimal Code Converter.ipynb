{
 "cells": [
  {
   "cell_type": "markdown",
   "id": "24a89fd6-2ba7-4a50-a088-3e02b5313225",
   "metadata": {},
   "source": [
    "<center><h1>Decimal Code Converter</center>"
   ]
  },
  {
   "cell_type": "code",
   "execution_count": 1,
   "id": "a5432190-5e59-4c8a-bc3f-3ee675dd81b2",
   "metadata": {},
   "outputs": [
    {
     "name": "stdin",
     "output_type": "stream",
     "text": [
      "Enter a decimal digit (0-9):  2\n"
     ]
    },
    {
     "name": "stdout",
     "output_type": "stream",
     "text": [
      "\n",
      "Decimal: 2\n",
      "BCD (8421):      0010\n",
      "ASCII:           50 (Binary: 0110010, Char: '2')\n",
      "Excess-3:        0101\n",
      "Two-out-of-Five: 00101\n"
     ]
    }
   ],
   "source": [
    "def decimal_code_converter(decimal):\n",
    "    if not (0 <= decimal <= 9):\n",
    "        print(\"Please enter a valid single digit between 0 and 9.\")\n",
    "        return\n",
    "\n",
    "    # BCD (8421)\n",
    "    bcd = format(decimal, '04b')\n",
    "\n",
    "    # ASCII (character, decimal, binary)\n",
    "    ascii_dec = 48 + decimal\n",
    "    ascii_bin = format(ascii_dec, '07b')\n",
    "    ascii_char = chr(ascii_dec)\n",
    "\n",
    "    # Excess-3\n",
    "    excess3 = format(decimal + 3, '04b')\n",
    "\n",
    "    # Two-out-of-Five (common code list)\n",
    "    two_of_five_codes = [\n",
    "        \"11000\", \"00011\", \"00101\", \"00110\", \"01001\",\n",
    "        \"01010\", \"01100\", \"10001\", \"10010\", \"10100\"\n",
    "    ]\n",
    "    two_of_five = two_of_five_codes[decimal]\n",
    "\n",
    "    # Display the results\n",
    "    print(f\"\\nDecimal: {decimal}\")\n",
    "    print(f\"BCD (8421):      {bcd}\")\n",
    "    print(f\"ASCII:           {ascii_dec} (Binary: {ascii_bin}, Char: '{ascii_char}')\")\n",
    "    print(f\"Excess-3:        {excess3}\")\n",
    "    print(f\"Two-out-of-Five: {two_of_five}\")\n",
    "\n",
    "# Example usage\n",
    "try:\n",
    "    user_input = int(input(\"Enter a decimal digit (0-9): \"))\n",
    "    decimal_code_converter(user_input)\n",
    "except ValueError:\n",
    "    print(\"Invalid input. Please enter an integer between 0 and 9.\")"
   ]
  }
 ],
 "metadata": {
  "kernelspec": {
   "display_name": "Python 3 (ipykernel)",
   "language": "python",
   "name": "python3"
  },
  "language_info": {
   "codemirror_mode": {
    "name": "ipython",
    "version": 3
   },
   "file_extension": ".py",
   "mimetype": "text/x-python",
   "name": "python",
   "nbconvert_exporter": "python",
   "pygments_lexer": "ipython3",
   "version": "3.10.11"
  }
 },
 "nbformat": 4,
 "nbformat_minor": 5
}
